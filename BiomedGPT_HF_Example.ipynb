{
  "nbformat": 4,
  "nbformat_minor": 0,
  "metadata": {
    "colab": {
      "provenance": []
    },
    "kernelspec": {
      "name": "python3",
      "display_name": "Python 3"
    },
    "language_info": {
      "name": "python"
    }
  },
  "cells": [
    {
      "cell_type": "markdown",
      "source": [
        "#### use the pre-trained biomedgpt from huggingface -- PanaceaAI/BiomedGPT-Base-Pretrained"
      ],
      "metadata": {
        "id": "8t0q975bRazn"
      }
    },
    {
      "cell_type": "code",
      "source": [
        "# download the same-size pretrained HF variant of the finetuned variant that you want to convert from.\n",
        "model_name = \"BiomedGPT-Base-Pretrained\"\n",
        "!git clone https://huggingface.co/PanaceaAI/{model_name}"
      ],
      "metadata": {
        "colab": {
          "base_uri": "https://localhost:8080/"
        },
        "id": "fbgs1kUpRzCP",
        "outputId": "a6c8dd76-cb04-46f0-a3d3-9d617ea07143"
      },
      "execution_count": null,
      "outputs": [
        {
          "output_type": "stream",
          "name": "stdout",
          "text": [
            "Cloning into 'BiomedGPT-Base-Pretrained'...\n",
            "remote: Enumerating objects: 10, done.\u001b[K\n",
            "remote: Counting objects: 100% (6/6), done.\u001b[K\n",
            "remote: Compressing objects: 100% (6/6), done.\u001b[K\n",
            "remote: Total 10 (delta 0), reused 0 (delta 0), pack-reused 4 (from 1)\u001b[K\n",
            "Unpacking objects: 100% (10/10), 536.86 KiB | 4.29 MiB/s, done.\n"
          ]
        }
      ]
    },
    {
      "cell_type": "code",
      "source": [
        "!git clone --single-branch --branch feature/add_transformers https://github.com/OFA-Sys/OFA.git\n",
        "\n",
        "!pip install OFA/transformers"
      ],
      "metadata": {
        "colab": {
          "base_uri": "https://localhost:8080/"
        },
        "id": "oIfod_7VVUBw",
        "outputId": "41322c85-4711-4c89-be88-a162e14bf7dd"
      },
      "execution_count": null,
      "outputs": [
        {
          "output_type": "stream",
          "name": "stdout",
          "text": [
            "Cloning into 'OFA'...\n",
            "remote: Enumerating objects: 5745, done.\u001b[K\n",
            "remote: Counting objects:   0% (1/932)\u001b[K\rremote: Counting objects:   1% (10/932)\u001b[K\rremote: Counting objects:   2% (19/932)\u001b[K\rremote: Counting objects:   3% (28/932)\u001b[K\rremote: Counting objects:   4% (38/932)\u001b[K\rremote: Counting objects:   5% (47/932)\u001b[K\rremote: Counting objects:   6% (56/932)\u001b[K\rremote: Counting objects:   7% (66/932)\u001b[K\rremote: Counting objects:   8% (75/932)\u001b[K\rremote: Counting objects:   9% (84/932)\u001b[K\rremote: Counting objects:  10% (94/932)\u001b[K\rremote: Counting objects:  11% (103/932)\u001b[K\rremote: Counting objects:  12% (112/932)\u001b[K\rremote: Counting objects:  13% (122/932)\u001b[K\rremote: Counting objects:  14% (131/932)\u001b[K\rremote: Counting objects:  15% (140/932)\u001b[K\rremote: Counting objects:  16% (150/932)\u001b[K\rremote: Counting objects:  17% (159/932)\u001b[K\rremote: Counting objects:  18% (168/932)\u001b[K\rremote: Counting objects:  19% (178/932)\u001b[K\rremote: Counting objects:  20% (187/932)\u001b[K\rremote: Counting objects:  21% (196/932)\u001b[K\rremote: Counting objects:  22% (206/932)\u001b[K\rremote: Counting objects:  23% (215/932)\u001b[K\rremote: Counting objects:  24% (224/932)\u001b[K\rremote: Counting objects:  25% (233/932)\u001b[K\rremote: Counting objects:  26% (243/932)\u001b[K\rremote: Counting objects:  27% (252/932)\u001b[K\rremote: Counting objects:  28% (261/932)\u001b[K\rremote: Counting objects:  29% (271/932)\u001b[K\rremote: Counting objects:  30% (280/932)\u001b[K\rremote: Counting objects:  31% (289/932)\u001b[K\rremote: Counting objects:  32% (299/932)\u001b[K\rremote: Counting objects:  33% (308/932)\u001b[K\rremote: Counting objects:  34% (317/932)\u001b[K\rremote: Counting objects:  35% (327/932)\u001b[K\rremote: Counting objects:  36% (336/932)\u001b[K\rremote: Counting objects:  37% (345/932)\u001b[K\rremote: Counting objects:  38% (355/932)\u001b[K\rremote: Counting objects:  39% (364/932)\u001b[K\rremote: Counting objects:  40% (373/932)\u001b[K\rremote: Counting objects:  41% (383/932)\u001b[K\rremote: Counting objects:  42% (392/932)\u001b[K\rremote: Counting objects:  43% (401/932)\u001b[K\rremote: Counting objects:  44% (411/932)\u001b[K\rremote: Counting objects:  45% (420/932)\u001b[K\rremote: Counting objects:  46% (429/932)\u001b[K\rremote: Counting objects:  47% (439/932)\u001b[K\rremote: Counting objects:  48% (448/932)\u001b[K\rremote: Counting objects:  49% (457/932)\u001b[K\rremote: Counting objects:  50% (466/932)\u001b[K\rremote: Counting objects:  51% (476/932)\u001b[K\rremote: Counting objects:  52% (485/932)\u001b[K\rremote: Counting objects:  53% (494/932)\u001b[K\rremote: Counting objects:  54% (504/932)\u001b[K\rremote: Counting objects:  55% (513/932)\u001b[K\rremote: Counting objects:  56% (522/932)\u001b[K\rremote: Counting objects:  57% (532/932)\u001b[K\rremote: Counting objects:  58% (541/932)\u001b[K\rremote: Counting objects:  59% (550/932)\u001b[K\rremote: Counting objects:  60% (560/932)\u001b[K\rremote: Counting objects:  61% (569/932)\u001b[K\rremote: Counting objects:  62% (578/932)\u001b[K\rremote: Counting objects:  63% (588/932)\u001b[K\rremote: Counting objects:  64% (597/932)\u001b[K\rremote: Counting objects:  65% (606/932)\u001b[K\rremote: Counting objects:  66% (616/932)\u001b[K\rremote: Counting objects:  67% (625/932)\u001b[K\rremote: Counting objects:  68% (634/932)\u001b[K\rremote: Counting objects:  69% (644/932)\u001b[K\rremote: Counting objects:  70% (653/932)\u001b[K\rremote: Counting objects:  71% (662/932)\u001b[K\rremote: Counting objects:  72% (672/932)\u001b[K\rremote: Counting objects:  73% (681/932)\u001b[K\rremote: Counting objects:  74% (690/932)\u001b[K\rremote: Counting objects:  75% (699/932)\u001b[K\rremote: Counting objects:  76% (709/932)\u001b[K\rremote: Counting objects:  77% (718/932)\u001b[K\rremote: Counting objects:  78% (727/932)\u001b[K\rremote: Counting objects:  79% (737/932)\u001b[K\rremote: Counting objects:  80% (746/932)\u001b[K\rremote: Counting objects:  81% (755/932)\u001b[K\rremote: Counting objects:  82% (765/932)\u001b[K\rremote: Counting objects:  83% (774/932)\u001b[K\rremote: Counting objects:  84% (783/932)\u001b[K\rremote: Counting objects:  85% (793/932)\u001b[K\rremote: Counting objects:  86% (802/932)\u001b[K\rremote: Counting objects:  87% (811/932)\u001b[K\rremote: Counting objects:  88% (821/932)\u001b[K\rremote: Counting objects:  89% (830/932)\u001b[K\rremote: Counting objects:  90% (839/932)\u001b[K\rremote: Counting objects:  91% (849/932)\u001b[K\rremote: Counting objects:  92% (858/932)\u001b[K\rremote: Counting objects:  93% (867/932)\u001b[K\rremote: Counting objects:  94% (877/932)\u001b[K\rremote: Counting objects:  95% (886/932)\u001b[K\rremote: Counting objects:  96% (895/932)\u001b[K\rremote: Counting objects:  97% (905/932)\u001b[K\rremote: Counting objects:  98% (914/932)\u001b[K\rremote: Counting objects:  99% (923/932)\u001b[K\rremote: Counting objects: 100% (932/932)\u001b[K\rremote: Counting objects: 100% (932/932), done.\u001b[K\n",
            "remote: Compressing objects: 100% (256/256), done.\u001b[K\n",
            "remote: Total 5745 (delta 710), reused 676 (delta 676), pack-reused 4813 (from 1)\u001b[K\n",
            "Receiving objects: 100% (5745/5745), 97.78 MiB | 33.81 MiB/s, done.\n",
            "Resolving deltas: 100% (2243/2243), done.\n",
            "Processing ./OFA/transformers\n",
            "  Installing build dependencies ... \u001b[?25l\u001b[?25hdone\n",
            "  Getting requirements to build wheel ... \u001b[?25l\u001b[?25hdone\n",
            "  Preparing metadata (pyproject.toml) ... \u001b[?25l\u001b[?25hdone\n",
            "Requirement already satisfied: filelock in /usr/local/lib/python3.10/dist-packages (from transformers==4.18.0.dev0) (3.16.1)\n",
            "Requirement already satisfied: huggingface-hub<1.0,>=0.1.0 in /usr/local/lib/python3.10/dist-packages (from transformers==4.18.0.dev0) (0.24.7)\n",
            "Requirement already satisfied: numpy>=1.17 in /usr/local/lib/python3.10/dist-packages (from transformers==4.18.0.dev0) (1.26.4)\n",
            "Requirement already satisfied: packaging>=20.0 in /usr/local/lib/python3.10/dist-packages (from transformers==4.18.0.dev0) (24.1)\n",
            "Requirement already satisfied: pyyaml>=5.1 in /usr/local/lib/python3.10/dist-packages (from transformers==4.18.0.dev0) (6.0.2)\n",
            "Requirement already satisfied: regex!=2019.12.17 in /usr/local/lib/python3.10/dist-packages (from transformers==4.18.0.dev0) (2024.9.11)\n",
            "Requirement already satisfied: requests in /usr/local/lib/python3.10/dist-packages (from transformers==4.18.0.dev0) (2.32.3)\n",
            "Collecting sacremoses (from transformers==4.18.0.dev0)\n",
            "  Downloading sacremoses-0.1.1-py3-none-any.whl.metadata (8.3 kB)\n",
            "Requirement already satisfied: tokenizers!=0.11.3,>=0.11.1 in /usr/local/lib/python3.10/dist-packages (from transformers==4.18.0.dev0) (0.19.1)\n",
            "Requirement already satisfied: tqdm>=4.27 in /usr/local/lib/python3.10/dist-packages (from transformers==4.18.0.dev0) (4.66.5)\n",
            "Requirement already satisfied: fsspec>=2023.5.0 in /usr/local/lib/python3.10/dist-packages (from huggingface-hub<1.0,>=0.1.0->transformers==4.18.0.dev0) (2024.6.1)\n",
            "Requirement already satisfied: typing-extensions>=3.7.4.3 in /usr/local/lib/python3.10/dist-packages (from huggingface-hub<1.0,>=0.1.0->transformers==4.18.0.dev0) (4.12.2)\n",
            "Requirement already satisfied: charset-normalizer<4,>=2 in /usr/local/lib/python3.10/dist-packages (from requests->transformers==4.18.0.dev0) (3.4.0)\n",
            "Requirement already satisfied: idna<4,>=2.5 in /usr/local/lib/python3.10/dist-packages (from requests->transformers==4.18.0.dev0) (3.10)\n",
            "Requirement already satisfied: urllib3<3,>=1.21.1 in /usr/local/lib/python3.10/dist-packages (from requests->transformers==4.18.0.dev0) (2.2.3)\n",
            "Requirement already satisfied: certifi>=2017.4.17 in /usr/local/lib/python3.10/dist-packages (from requests->transformers==4.18.0.dev0) (2024.8.30)\n",
            "Requirement already satisfied: click in /usr/local/lib/python3.10/dist-packages (from sacremoses->transformers==4.18.0.dev0) (8.1.7)\n",
            "Requirement already satisfied: joblib in /usr/local/lib/python3.10/dist-packages (from sacremoses->transformers==4.18.0.dev0) (1.4.2)\n",
            "Downloading sacremoses-0.1.1-py3-none-any.whl (897 kB)\n",
            "\u001b[2K   \u001b[90m━━━━━━━━━━━━━━━━━━━━━━━━━━━━━━━━━━━━━━━━\u001b[0m \u001b[32m897.5/897.5 kB\u001b[0m \u001b[31m39.5 MB/s\u001b[0m eta \u001b[36m0:00:00\u001b[0m\n",
            "\u001b[?25hBuilding wheels for collected packages: transformers\n",
            "  Building wheel for transformers (pyproject.toml) ... \u001b[?25l\u001b[?25hdone\n",
            "  Created wheel for transformers: filename=transformers-4.18.0.dev0-py3-none-any.whl size=3916745 sha256=55371155ddc8d0397fe7d4f69ce132173b991338d3be5390b2e4b87fef5a1369\n",
            "  Stored in directory: /tmp/pip-ephem-wheel-cache-vzz6osbg/wheels/0b/bc/ea/00b6b8998c20c4fe55affe6062a2cddda80308ef9bd5d5877c\n",
            "Successfully built transformers\n",
            "Installing collected packages: sacremoses, transformers\n",
            "  Attempting uninstall: transformers\n",
            "    Found existing installation: transformers 4.44.2\n",
            "    Uninstalling transformers-4.44.2:\n",
            "      Successfully uninstalled transformers-4.44.2\n",
            "Successfully installed sacremoses-0.1.1 transformers-4.18.0.dev0\n"
          ]
        }
      ]
    },
    {
      "cell_type": "code",
      "source": [
        "from transformers import OFATokenizer, OFAModel\n",
        "tokenizer = OFATokenizer.from_pretrained(f\"./{model_name}\")\n",
        "model = OFAModel.from_pretrained(f\"./{model_name}\")\n"
      ],
      "metadata": {
        "id": "sW96DDKpVn6y",
        "colab": {
          "base_uri": "https://localhost:8080/"
        },
        "outputId": "aef42d01-934b-418b-d4a3-cc03f549a87d"
      },
      "execution_count": null,
      "outputs": [
        {
          "output_type": "stream",
          "name": "stdout",
          "text": [
            "./BiomedGPT-Base-Pretrained\n",
            "<super: <class 'OFATokenizer'>, <OFATokenizer object>>\n"
          ]
        },
        {
          "output_type": "stream",
          "name": "stderr",
          "text": [
            "/usr/local/lib/python3.10/dist-packages/transformers/modeling_utils.py:1440: FutureWarning: You are using `torch.load` with `weights_only=False` (the current default value), which uses the default pickle module implicitly. It is possible to construct malicious pickle data which will execute arbitrary code during unpickling (See https://github.com/pytorch/pytorch/blob/main/SECURITY.md#untrusted-models for more details). In a future release, the default value for `weights_only` will be flipped to `True`. This limits the functions that could be executed during unpickling. Arbitrary objects will no longer be allowed to be loaded via this mode unless they are explicitly allowlisted by the user via `torch.serialization.add_safe_globals`. We recommend you start setting `weights_only=True` for any use case where you don't have full control of the loaded file. Please open an issue on GitHub for any issues related to this experimental feature.\n",
            "  state_dict = torch.load(resolved_archive_file, map_location=\"cpu\")\n",
            "/usr/local/lib/python3.10/dist-packages/torch/functional.py:513: UserWarning: torch.meshgrid: in an upcoming release, it will be required to pass the indexing argument. (Triggered internally at ../aten/src/ATen/native/TensorShape.cpp:3609.)\n",
            "  return _VF.meshgrid(tensors, **kwargs)  # type: ignore[attr-defined]\n"
          ]
        }
      ]
    },
    {
      "cell_type": "code",
      "source": [
        "import re\n",
        "\n",
        "import torch\n",
        "from PIL import Image\n",
        "from torchvision import transforms\n",
        "\n",
        "\n",
        "mean, std = [0.5, 0.5, 0.5], [0.5, 0.5, 0.5]\n",
        "resolution = 480\n",
        "\n",
        "patch_resize_transform = transforms.Compose([\n",
        "        lambda image: image.convert(\"RGB\"),\n",
        "        transforms.Resize((resolution, resolution), interpolation=Image.BICUBIC),\n",
        "        transforms.ToTensor(),\n",
        "        transforms.Normalize(mean=mean, std=std)\n",
        "    ])\n"
      ],
      "metadata": {
        "id": "wNdO-CKAV_Yi"
      },
      "execution_count": null,
      "outputs": []
    },
    {
      "cell_type": "code",
      "source": [
        "!gdown --id 1kojeqtJSx3MzdY3jd--XzeJrdyiFuzC8 -O example.jpg\n",
        "\n",
        "img = Image.open('/content/example.jpg')\n",
        "\n",
        "txt = \"What modality is used to take this image?\"\n",
        "inputs = tokenizer([txt], return_tensors=\"pt\").input_ids\n",
        "patch_img = patch_resize_transform(img).unsqueeze(0)\n",
        "\n",
        "gen = model.generate(inputs, patch_images=patch_img, num_beams=5, no_repeat_ngram_size=3, max_length=16)\n",
        "results = tokenizer.batch_decode(gen, skip_special_tokens=True)\n",
        "\n",
        "result = results[0]\n",
        "result = re.sub(r'[^\\w\\s]', '', result).strip()\n",
        "\n",
        "result"
      ],
      "metadata": {
        "colab": {
          "base_uri": "https://localhost:8080/",
          "height": 160
        },
        "id": "WgLUTdMIuUb_",
        "outputId": "721946fe-5de6-4fe5-af27-0eb76e4815df"
      },
      "execution_count": null,
      "outputs": [
        {
          "output_type": "stream",
          "name": "stdout",
          "text": [
            "/usr/local/lib/python3.10/dist-packages/gdown/__main__.py:140: FutureWarning: Option `--id` was deprecated in version 4.3.1 and will be removed in 5.0. You don't need to pass it anymore to use a file ID.\n",
            "  warnings.warn(\n",
            "Downloading...\n",
            "From: https://drive.google.com/uc?id=1kojeqtJSx3MzdY3jd--XzeJrdyiFuzC8\n",
            "To: /content/example.jpg\n",
            "100% 14.6k/14.6k [00:00<00:00, 45.4MB/s]\n"
          ]
        },
        {
          "output_type": "execute_result",
          "data": {
            "text/plain": [
              "'MRI'"
            ],
            "application/vnd.google.colaboratory.intrinsic+json": {
              "type": "string"
            }
          },
          "metadata": {},
          "execution_count": 5
        }
      ]
    },
    {
      "cell_type": "code",
      "source": [
        "img = Image.open('/content/2.jpg')\n",
        "\n",
        "txt = \"Does this MRI image show any signs of having brain tumor?\"\n",
        "inputs = tokenizer([txt], return_tensors=\"pt\").input_ids\n",
        "patch_img = patch_resize_transform(img).unsqueeze(0)\n",
        "\n",
        "gen = model.generate(inputs, patch_images=patch_img, num_beams=5, no_repeat_ngram_size=3, max_length=16)\n",
        "results = tokenizer.batch_decode(gen, skip_special_tokens=True)\n",
        "\n",
        "result = results[0]\n",
        "result = re.sub(r'[^\\w\\s]', '', result).strip()\n",
        "\n",
        "result"
      ],
      "metadata": {
        "id": "nEQJH5MoT-we",
        "outputId": "0f52d8f9-340c-4c0c-8933-28b44420b522",
        "colab": {
          "base_uri": "https://localhost:8080/",
          "height": 35
        }
      },
      "execution_count": null,
      "outputs": [
        {
          "output_type": "execute_result",
          "data": {
            "text/plain": [
              "'anterior cingulate cortex'"
            ],
            "application/vnd.google.colaboratory.intrinsic+json": {
              "type": "string"
            }
          },
          "metadata": {},
          "execution_count": 6
        }
      ]
    },
    {
      "cell_type": "code",
      "source": [
        "img = Image.open('/content/pituitary_tumor.jpg')\n",
        "\n",
        "txt = \"In the given MRI Image, name the part of the brain has been affected with the tumor.\"\n",
        "inputs = tokenizer([txt], return_tensors=\"pt\").input_ids\n",
        "patch_img = patch_resize_transform(img).unsqueeze(0)\n",
        "\n",
        "gen = model.generate(inputs, patch_images=patch_img, num_beams=5, no_repeat_ngram_size=3, max_length=16)\n",
        "results = tokenizer.batch_decode(gen, skip_special_tokens=True)\n",
        "\n",
        "result = results[0]\n",
        "result = re.sub(r'[^\\w\\s]', '', result).strip()\n",
        "\n",
        "result"
      ],
      "metadata": {
        "id": "8AvOEauUumTO",
        "colab": {
          "base_uri": "https://localhost:8080/",
          "height": 35
        },
        "outputId": "d55cc366-95f7-4e4f-c35f-c30be819a365"
      },
      "execution_count": null,
      "outputs": [
        {
          "output_type": "execute_result",
          "data": {
            "text/plain": [
              "'the 5th ventricle'"
            ],
            "application/vnd.google.colaboratory.intrinsic+json": {
              "type": "string"
            }
          },
          "metadata": {},
          "execution_count": 7
        }
      ]
    },
    {
      "cell_type": "code",
      "source": [
        "img = Image.open('/content/lung_cancer.jpg')\n",
        "\n",
        "txt = \"What modality is used here and what part of the human body is shown?\"\n",
        "inputs = tokenizer([txt], return_tensors=\"pt\").input_ids\n",
        "patch_img = patch_resize_transform(img).unsqueeze(0)\n",
        "\n",
        "gen = model.generate(inputs, patch_images=patch_img, num_beams=5, no_repeat_ngram_size=3, max_length=16)\n",
        "results = tokenizer.batch_decode(gen, skip_special_tokens=True)\n",
        "\n",
        "result = results[0]\n",
        "result = re.sub(r'[^\\w\\s]', '', result).strip()\n",
        "\n",
        "result"
      ],
      "metadata": {
        "colab": {
          "base_uri": "https://localhost:8080/",
          "height": 35
        },
        "id": "lCLGmlBJw9R3",
        "outputId": "db32493f-ea0f-476a-fc51-7d8b7eddc872"
      },
      "execution_count": null,
      "outputs": [
        {
          "output_type": "execute_result",
          "data": {
            "text/plain": [
              "'labels pneumothorax pleural effusion or both types'"
            ],
            "application/vnd.google.colaboratory.intrinsic+json": {
              "type": "string"
            }
          },
          "metadata": {},
          "execution_count": 8
        }
      ]
    },
    {
      "cell_type": "code",
      "source": [
        "img = Image.open('/content/Chestxray.png')\n",
        "\n",
        "txt = \"What modality is used here\"\n",
        "inputs = tokenizer([txt], return_tensors=\"pt\").input_ids\n",
        "patch_img = patch_resize_transform(img).unsqueeze(0)\n",
        "\n",
        "gen = model.generate(inputs, patch_images=patch_img, num_beams=5, no_repeat_ngram_size=3, max_length=16)\n",
        "results = tokenizer.batch_decode(gen, skip_special_tokens=True)\n",
        "\n",
        "result = results[0]\n",
        "result = re.sub(r'[^\\w\\s]', '', result).strip()\n",
        "\n",
        "result"
      ],
      "metadata": {
        "id": "Jn5J-mRay37W",
        "colab": {
          "base_uri": "https://localhost:8080/",
          "height": 35
        },
        "outputId": "c54959c9-fe41-4433-a525-ab4964455ad6"
      },
      "execution_count": null,
      "outputs": [
        {
          "output_type": "execute_result",
          "data": {
            "text/plain": [
              "'XRay'"
            ],
            "application/vnd.google.colaboratory.intrinsic+json": {
              "type": "string"
            }
          },
          "metadata": {},
          "execution_count": 13
        }
      ]
    },
    {
      "cell_type": "code",
      "source": [],
      "metadata": {
        "id": "iyzdSRpb3mNn"
      },
      "execution_count": null,
      "outputs": []
    }
  ]
}